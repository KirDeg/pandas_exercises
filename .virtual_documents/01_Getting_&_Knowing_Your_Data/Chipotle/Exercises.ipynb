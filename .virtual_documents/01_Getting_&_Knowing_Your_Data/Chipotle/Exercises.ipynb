





import pandas as pd
import numpy as np





url = 'https://raw.githubusercontent.com/justmarkham/DAT8/master/data/chipotle.tsv'
    
chipo = pd.read_csv(url, sep = '\t', engine='pyarrow')





chipo = pd.read_csv(url, sep = '\t')





chipo.head(10)





# Solution 1

chipo.shape[0]


# Solution 2

len(chipo)





chipo.shape[1]





chipo.columns





chipo.index


chipo.isnull().any().all()





chipo.groupby(['item_name'])\
     .sum()['quantity']\
     .nlargest(1)





chipo.groupby(['item_name'])\
     .sum()['quantity']\
     .nlargest(1)





chipo












































# Solution 1




# Solution 2








