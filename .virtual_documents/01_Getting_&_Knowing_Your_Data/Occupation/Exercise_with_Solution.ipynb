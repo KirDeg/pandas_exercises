





import pandas as pd








users = pd.read_csv('https://raw.githubusercontent.com/justmarkham/DAT8/master/data/u.user', 
                      sep='|', index_col='user_id')





users.head(25)





users.tail(10)





users.shape[0]





users.shape[1]





users.columns





# "the index" (aka "the labels")
users.index





users.dtypes





users.occupation

#or

users['occupation']





users.occupation.nunique()
#or by using value_counts() which returns the count of unique elements
#users.occupation.value_counts().count()





#Because "most" is asked
users.occupation.value_counts().head(1).index[0]

#or
#to have the top 5

# users.occupation.value_counts().head()





users.describe() #Notice: by default, only the numeric columns are returned. 





users.describe(include = "all") #Notice: By default, only the numeric columns are returned.





users.occupation.describe()





round(users.age.mean())





users.age.value_counts().tail() #7, 10, 11, 66 and 73 years -> only 1 occurrence
