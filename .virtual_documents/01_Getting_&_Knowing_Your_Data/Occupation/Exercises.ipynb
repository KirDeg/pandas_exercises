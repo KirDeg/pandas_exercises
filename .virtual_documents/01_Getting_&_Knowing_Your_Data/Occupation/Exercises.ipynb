





import pandas as pd





users = pd.read_csv('https://raw.githubusercontent.com/justmarkham/DAT8/master/data/u.user', sep='|', index_col = 'user_id', engine='pyarrow', dtype_backend='pyarrow')


users











users.head(25)





users.tail(10)





len(users)





len(users.columns)





users.columns





users.index





users.info()





users[['occupation']]





len(users['occupation'].value_counts().index)





users['occupation'].value_counts().nlargest(1)





users.describe()





users.describe(include='all')





users['occupation'].describe()





users.age.mean()





users.age.value_counts().tail()



